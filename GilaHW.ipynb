{
 "cells": [
  {
   "cell_type": "code",
   "execution_count": 1,
   "id": "e4935104-4c10-43f9-98cf-8e0974b45e92",
   "metadata": {},
   "outputs": [
    {
     "name": "stdout",
     "output_type": "stream",
     "text": [
      "Requirement already satisfied: numpy in c:\\python310\\lib\\site-packages (1.26.4)\n",
      "Note: you may need to restart the kernel to use updated packages.\n"
     ]
    },
    {
     "name": "stderr",
     "output_type": "stream",
     "text": [
      "WARNING: Ignoring invalid distribution -ip (c:\\python310\\lib\\site-packages)\n",
      "WARNING: Ignoring invalid distribution -ip (c:\\python310\\lib\\site-packages)\n",
      "\n",
      "[notice] A new release of pip is available: 23.3.2 -> 24.0\n",
      "[notice] To update, run: python.exe -m pip install --upgrade pip\n"
     ]
    }
   ],
   "source": [
    "pip install numpy"
   ]
  },
  {
   "cell_type": "code",
   "execution_count": 2,
   "id": "9ddae814-e685-47d6-b6ce-ca8be169cb43",
   "metadata": {},
   "outputs": [],
   "source": [
    "import numpy as np"
   ]
  },
  {
   "cell_type": "code",
   "execution_count": 10,
   "id": "92ef2f0b-3b6e-4631-aab6-89a25346e4cf",
   "metadata": {},
   "outputs": [],
   "source": [
    "random_array = np.random.randint(1, 50, size=(10))"
   ]
  },
  {
   "cell_type": "code",
   "execution_count": null,
   "id": "51ab1150-8218-4d1f-999d-784f51de630f",
   "metadata": {},
   "outputs": [],
   "source": [
    "#exc1"
   ]
  },
  {
   "cell_type": "code",
   "execution_count": 11,
   "id": "d03adb23-685c-44c9-896e-8486ab212d91",
   "metadata": {},
   "outputs": [
    {
     "data": {
      "text/plain": [
       "10"
      ]
     },
     "execution_count": 11,
     "metadata": {},
     "output_type": "execute_result"
    }
   ],
   "source": [
    "random_array.size"
   ]
  },
  {
   "cell_type": "code",
   "execution_count": 12,
   "id": "9358950e-9666-4c21-bd86-2fe6ad5e360a",
   "metadata": {},
   "outputs": [
    {
     "data": {
      "text/plain": [
       "1"
      ]
     },
     "execution_count": 12,
     "metadata": {},
     "output_type": "execute_result"
    }
   ],
   "source": [
    "random_array.ndim"
   ]
  },
  {
   "cell_type": "code",
   "execution_count": 13,
   "id": "550b0e1b-7577-4181-b23c-b2dec29e0b3e",
   "metadata": {},
   "outputs": [
    {
     "data": {
      "text/plain": [
       "dtype('int32')"
      ]
     },
     "execution_count": 13,
     "metadata": {},
     "output_type": "execute_result"
    }
   ],
   "source": [
    "random_array.dtype"
   ]
  },
  {
   "cell_type": "code",
   "execution_count": null,
   "id": "db910fdb-0da6-4c8d-8dec-168731b2a67d",
   "metadata": {},
   "outputs": [],
   "source": [
    "#exc2"
   ]
  },
  {
   "cell_type": "code",
   "execution_count": 15,
   "id": "050608ed-b070-416f-9d15-81c2cb8edd6b",
   "metadata": {},
   "outputs": [
    {
     "data": {
      "text/plain": [
       "(2, 5)"
      ]
     },
     "execution_count": 15,
     "metadata": {},
     "output_type": "execute_result"
    }
   ],
   "source": [
    "two_dim_array = np.array([\n",
    "    [1,3,5,7,9],\n",
    "    [0,2,4,6,8]\n",
    "])\n",
    "two_dim_array.shape"
   ]
  },
  {
   "cell_type": "code",
   "execution_count": null,
   "id": "ab8d8358-c982-47b5-acda-c0ccc95f8ecd",
   "metadata": {},
   "outputs": [],
   "source": []
  },
  {
   "cell_type": "code",
   "execution_count": null,
   "id": "7de3abe9-0055-40be-bb6a-3939c9d7a46b",
   "metadata": {},
   "outputs": [],
   "source": [
    "#1"
   ]
  },
  {
   "cell_type": "code",
   "execution_count": 18,
   "id": "0d45a2b6-0765-4c9c-8626-906dbefbc220",
   "metadata": {},
   "outputs": [
    {
     "data": {
      "text/plain": [
       "19.7"
      ]
     },
     "execution_count": 18,
     "metadata": {},
     "output_type": "execute_result"
    }
   ],
   "source": [
    "np.mean(random_array)"
   ]
  },
  {
   "cell_type": "code",
   "execution_count": null,
   "id": "27640bae-9ed1-4289-b9f4-5b74593e7f4e",
   "metadata": {},
   "outputs": [],
   "source": [
    "#2"
   ]
  },
  {
   "cell_type": "code",
   "execution_count": 19,
   "id": "939e0bc1-7cc8-4c57-9756-766a7fa37015",
   "metadata": {},
   "outputs": [
    {
     "data": {
      "text/plain": [
       "9.0"
      ]
     },
     "execution_count": 19,
     "metadata": {},
     "output_type": "execute_result"
    }
   ],
   "source": [
    "another_two_dim_array=np.array([\n",
    "    [1,3,5,7,9],\n",
    "    [0,2,4,6,8]\n",
    "])\n",
    "np.mean(np.add(two_dim_array,another_two_dim_array))"
   ]
  },
  {
   "cell_type": "code",
   "execution_count": 21,
   "id": "ae264785-116c-48a3-806c-d869168062c5",
   "metadata": {},
   "outputs": [
    {
     "data": {
      "text/plain": [
       "array([99, 85, 61, 74, 83, 69, 98, 59, 55, 78])"
      ]
     },
     "execution_count": 21,
     "metadata": {},
     "output_type": "execute_result"
    }
   ],
   "source": [
    "#3\n",
    "big_random_array = np.random.randint(1, 100, size=(20))\n",
    "big_random_array[big_random_array>50]"
   ]
  },
  {
   "cell_type": "code",
   "execution_count": 23,
   "id": "dfdc4714-1344-4443-a426-2070b0831aae",
   "metadata": {},
   "outputs": [],
   "source": [
    "array = np.arange(1, 10)"
   ]
  },
  {
   "cell_type": "code",
   "execution_count": null,
   "id": "9f25bff5-7659-47d5-90df-1aa830a08b0f",
   "metadata": {},
   "outputs": [],
   "source": []
  },
  {
   "cell_type": "code",
   "execution_count": 27,
   "id": "f2d18b06-82d6-42c3-9d37-51a8abb9d277",
   "metadata": {},
   "outputs": [
    {
     "ename": "NameError",
     "evalue": "name 'mix_arr' is not defined",
     "output_type": "error",
     "traceback": [
      "\u001b[1;31m---------------------------------------------------------------------------\u001b[0m",
      "\u001b[1;31mNameError\u001b[0m                                 Traceback (most recent call last)",
      "Cell \u001b[1;32mIn[27], line 1\u001b[0m\n\u001b[1;32m----> 1\u001b[0m np\u001b[38;5;241m.\u001b[39mrandom\u001b[38;5;241m.\u001b[39mchoice(\u001b[43mmix_arr\u001b[49m)\n",
      "\u001b[1;31mNameError\u001b[0m: name 'mix_arr' is not defined"
     ]
    }
   ],
   "source": [
    "np.random.choice"
   ]
  },
  {
   "cell_type": "code",
   "execution_count": null,
   "id": "206a5bab-d10e-46d3-a568-49eb66a9bb0e",
   "metadata": {},
   "outputs": [],
   "source": []
  }
 ],
 "metadata": {
  "kernelspec": {
   "display_name": "Python 3 (ipykernel)",
   "language": "python",
   "name": "python3"
  },
  "language_info": {
   "codemirror_mode": {
    "name": "ipython",
    "version": 3
   },
   "file_extension": ".py",
   "mimetype": "text/x-python",
   "name": "python",
   "nbconvert_exporter": "python",
   "pygments_lexer": "ipython3",
   "version": "3.10.8"
  }
 },
 "nbformat": 4,
 "nbformat_minor": 5
}
